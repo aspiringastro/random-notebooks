{
 "cells": [
  {
   "cell_type": "code",
   "execution_count": 1,
   "id": "8330af6a-e550-40ba-9f16-1796609b2545",
   "metadata": {},
   "outputs": [],
   "source": [
    "import torch"
   ]
  },
  {
   "cell_type": "code",
   "execution_count": 2,
   "id": "32cd0943-4690-4d4e-98c7-4e2d3d0f97d2",
   "metadata": {},
   "outputs": [
    {
     "data": {
      "text/plain": [
       "(tensor([5.], requires_grad=True), tensor([6.], requires_grad=True))"
      ]
     },
     "execution_count": 2,
     "metadata": {},
     "output_type": "execute_result"
    }
   ],
   "source": [
    "a  = torch.tensor([5.], requires_grad=True)\n",
    "b  = torch.tensor([6.], requires_grad=True)\n",
    "a,b"
   ]
  },
  {
   "cell_type": "code",
   "execution_count": 3,
   "id": "eb94d841-4605-4873-becc-27b5b770b0bf",
   "metadata": {},
   "outputs": [
    {
     "data": {
      "text/plain": [
       "tensor([89.], grad_fn=<SubBackward0>)"
      ]
     },
     "execution_count": 3,
     "metadata": {},
     "output_type": "execute_result"
    }
   ],
   "source": [
    "y = a**3 -b**2\n",
    "y"
   ]
  },
  {
   "cell_type": "markdown",
   "id": "2b97926f-7438-40a5-a48d-d05536460db1",
   "metadata": {},
   "source": [
    "### dy/da = 3a**2 = 3 * 5 * 5 = 75\n",
    "### dy/db = -2*b = -2 * 6 = -12\n"
   ]
  },
  {
   "cell_type": "code",
   "execution_count": 4,
   "id": "ed08f3b8-206a-4deb-ac12-3f65cc49b3b1",
   "metadata": {},
   "outputs": [],
   "source": [
    "y.backward()"
   ]
  },
  {
   "cell_type": "code",
   "execution_count": 5,
   "id": "0713d921-e9c6-4c9c-be84-65c76e18b87d",
   "metadata": {},
   "outputs": [
    {
     "data": {
      "text/plain": [
       "(tensor([75.]), tensor([-12.]))"
      ]
     },
     "execution_count": 5,
     "metadata": {},
     "output_type": "execute_result"
    }
   ],
   "source": [
    "a.grad, b.grad"
   ]
  },
  {
   "cell_type": "code",
   "execution_count": 6,
   "id": "ce761d3c-5980-40d3-af79-799d034f006d",
   "metadata": {},
   "outputs": [],
   "source": [
    "W = torch.rand(10, 1, requires_grad=True)\n",
    "b = torch.rand(1, requires_grad=True)"
   ]
  },
  {
   "cell_type": "code",
   "execution_count": 7,
   "id": "dc797ae6-ff52-4ec0-94d4-c2dd6d4c0e7e",
   "metadata": {},
   "outputs": [],
   "source": [
    "X = torch.rand(1, 10)"
   ]
  },
  {
   "cell_type": "code",
   "execution_count": 8,
   "id": "8055e0ae-0c9b-4e01-a558-9f0633344746",
   "metadata": {},
   "outputs": [],
   "source": [
    "Y = torch.matmul(X, W) + b"
   ]
  },
  {
   "cell_type": "code",
   "execution_count": 9,
   "id": "3e87d339-b495-43b1-94d0-40aedb6e1862",
   "metadata": {},
   "outputs": [],
   "source": [
    "loss = 1 - Y"
   ]
  },
  {
   "cell_type": "code",
   "execution_count": 10,
   "id": "e12e7130-f02d-4c93-a7e5-16c870917d40",
   "metadata": {},
   "outputs": [
    {
     "data": {
      "text/plain": [
       "tensor([[2.5194]], grad_fn=<AddBackward0>)"
      ]
     },
     "execution_count": 10,
     "metadata": {},
     "output_type": "execute_result"
    }
   ],
   "source": [
    "Y"
   ]
  },
  {
   "cell_type": "code",
   "execution_count": 11,
   "id": "570131ea-4c06-47b7-9e7c-d02d3f8d5918",
   "metadata": {},
   "outputs": [
    {
     "data": {
      "text/plain": [
       "tensor([[-1.5194]], grad_fn=<RsubBackward1>)"
      ]
     },
     "execution_count": 11,
     "metadata": {},
     "output_type": "execute_result"
    }
   ],
   "source": [
    "loss"
   ]
  },
  {
   "cell_type": "code",
   "execution_count": 12,
   "id": "b63daf5e-03ca-4931-9bcc-cedffcd26168",
   "metadata": {},
   "outputs": [],
   "source": [
    "loss.backward()"
   ]
  },
  {
   "cell_type": "code",
   "execution_count": 16,
   "id": "a7ee33e1-eeff-42c0-9b80-79eec2462192",
   "metadata": {},
   "outputs": [
    {
     "data": {
      "text/plain": [
       "tensor([[-0.7367],\n",
       "        [-0.1883],\n",
       "        [-0.2666],\n",
       "        [-0.0145],\n",
       "        [-0.7832],\n",
       "        [-0.3539],\n",
       "        [-0.2202],\n",
       "        [-0.9452],\n",
       "        [-0.5049],\n",
       "        [-0.2421]])"
      ]
     },
     "execution_count": 16,
     "metadata": {},
     "output_type": "execute_result"
    }
   ],
   "source": [
    "W.grad\n"
   ]
  },
  {
   "cell_type": "code",
   "execution_count": 17,
   "id": "2f913d72-6c23-404c-9d28-9b0d57fecb25",
   "metadata": {},
   "outputs": [
    {
     "data": {
      "text/plain": [
       "tensor([[0.2654],\n",
       "        [0.4952],\n",
       "        [0.1007],\n",
       "        [0.7022],\n",
       "        [0.0141],\n",
       "        [0.7584],\n",
       "        [0.4153],\n",
       "        [0.7351],\n",
       "        [0.3453],\n",
       "        [0.1696]])"
      ]
     },
     "execution_count": 17,
     "metadata": {},
     "output_type": "execute_result"
    }
   ],
   "source": [
    "learning_rate = 0.001\n",
    "with torch.no_grad():\n",
    "    W = W - learning_rate * W.grad.data\n",
    "W"
   ]
  },
  {
   "cell_type": "code",
   "execution_count": 18,
   "id": "128f3653-ee45-4bf1-999f-363165e9d9ba",
   "metadata": {},
   "outputs": [],
   "source": [
    "W.grad = None"
   ]
  },
  {
   "cell_type": "code",
   "execution_count": null,
   "id": "8ef1c456-1166-408a-ae83-285e7e25d4c7",
   "metadata": {},
   "outputs": [],
   "source": []
  }
 ],
 "metadata": {
  "kernelspec": {
   "display_name": "Python 3 (ipykernel)",
   "language": "python",
   "name": "python3"
  },
  "language_info": {
   "codemirror_mode": {
    "name": "ipython",
    "version": 3
   },
   "file_extension": ".py",
   "mimetype": "text/x-python",
   "name": "python",
   "nbconvert_exporter": "python",
   "pygments_lexer": "ipython3",
   "version": "3.10.8"
  }
 },
 "nbformat": 4,
 "nbformat_minor": 5
}
