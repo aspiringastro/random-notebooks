{
 "cells": [
  {
   "cell_type": "code",
   "execution_count": 2,
   "id": "701d667c-52f8-4f32-9a04-d1e0ff308e0a",
   "metadata": {},
   "outputs": [],
   "source": [
    "import numpy as np\n",
    "import torch"
   ]
  },
  {
   "cell_type": "code",
   "execution_count": 4,
   "id": "3c79c346-0b96-48a3-86e3-291126ba2109",
   "metadata": {},
   "outputs": [
    {
     "data": {
      "text/plain": [
       "False"
      ]
     },
     "execution_count": 4,
     "metadata": {},
     "output_type": "execute_result"
    }
   ],
   "source": [
    "torch.cuda.is_available()"
   ]
  },
  {
   "cell_type": "code",
   "execution_count": 5,
   "id": "55e2edcd-7c22-490b-a477-c5c052dc2e28",
   "metadata": {},
   "outputs": [
    {
     "data": {
      "text/plain": [
       "list"
      ]
     },
     "execution_count": 5,
     "metadata": {},
     "output_type": "execute_result"
    }
   ],
   "source": [
    "some_data = [[1,2],[3,4]]\n",
    "type(some_data)"
   ]
  },
  {
   "cell_type": "code",
   "execution_count": 6,
   "id": "05b57c79-75c4-45e0-8fdd-e50f3fff0421",
   "metadata": {},
   "outputs": [
    {
     "data": {
      "text/plain": [
       "array([[1, 2],\n",
       "       [3, 4]])"
      ]
     },
     "execution_count": 6,
     "metadata": {},
     "output_type": "execute_result"
    }
   ],
   "source": [
    "np.array(some_data)"
   ]
  },
  {
   "cell_type": "code",
   "execution_count": 7,
   "id": "277a438c-1694-44a2-8797-7b04da63a70a",
   "metadata": {},
   "outputs": [
    {
     "data": {
      "text/plain": [
       "array([[1, 2],\n",
       "       [3, 4]])"
      ]
     },
     "execution_count": 7,
     "metadata": {},
     "output_type": "execute_result"
    }
   ],
   "source": [
    "np.asarray(some_data)"
   ]
  },
  {
   "cell_type": "code",
   "execution_count": 10,
   "id": "dd3c4f2b-c3de-488e-b92f-cb577d5f471f",
   "metadata": {},
   "outputs": [
    {
     "name": "stderr",
     "output_type": "stream",
     "text": [
      "/var/folders/jk/w8lkkz7n40s81208_5_qd5_80000gn/T/ipykernel_58403/2640947224.py:1: UserWarning: To copy construct from a tensor, it is recommended to use sourceTensor.clone().detach() or sourceTensor.clone().detach().requires_grad_(True), rather than torch.tensor(sourceTensor).\n",
      "  some_data = torch.tensor(some_data)\n"
     ]
    },
    {
     "data": {
      "text/plain": [
       "torch.Tensor"
      ]
     },
     "execution_count": 10,
     "metadata": {},
     "output_type": "execute_result"
    }
   ],
   "source": [
    "some_data = torch.tensor(some_data)\n",
    "type(some_data)"
   ]
  },
  {
   "cell_type": "code",
   "execution_count": 11,
   "id": "f3aa7d80-b4ca-4f92-a3f4-287f3ed94daa",
   "metadata": {},
   "outputs": [
    {
     "data": {
      "text/plain": [
       "torch.int64"
      ]
     },
     "execution_count": 11,
     "metadata": {},
     "output_type": "execute_result"
    }
   ],
   "source": [
    "some_data.dtype"
   ]
  },
  {
   "cell_type": "code",
   "execution_count": 12,
   "id": "ee1f548a-ccec-44d5-84fd-0c96a871750b",
   "metadata": {},
   "outputs": [
    {
     "data": {
      "text/plain": [
       "array([[0.22646161, 0.33413031, 0.26739775, 0.1320735 ],\n",
       "       [0.81613091, 0.32394343, 0.36392009, 0.35500144],\n",
       "       [0.67763887, 0.78434728, 0.61058448, 0.63424727]])"
      ]
     },
     "execution_count": 12,
     "metadata": {},
     "output_type": "execute_result"
    }
   ],
   "source": [
    "numpy_array = np.random.rand(3,4)\n",
    "numpy_array"
   ]
  },
  {
   "cell_type": "code",
   "execution_count": 13,
   "id": "b3f5612d-e0f8-4514-8319-b8416d9aa5c4",
   "metadata": {},
   "outputs": [],
   "source": [
    "t_array = torch.from_numpy(numpy_array)"
   ]
  },
  {
   "cell_type": "code",
   "execution_count": 14,
   "id": "17e5ea49-6a55-45da-bf56-f0f00b4fc250",
   "metadata": {},
   "outputs": [
    {
     "data": {
      "text/plain": [
       "tensor([[1., 1., 1., 1.],\n",
       "        [1., 1., 1., 1.],\n",
       "        [1., 1., 1., 1.]])"
      ]
     },
     "execution_count": 14,
     "metadata": {},
     "output_type": "execute_result"
    }
   ],
   "source": [
    "torch.ones(3,4)"
   ]
  },
  {
   "cell_type": "code",
   "execution_count": 15,
   "id": "83afa720-0146-4a8f-a185-a82601770c01",
   "metadata": {},
   "outputs": [
    {
     "data": {
      "text/plain": [
       "tensor([[0., 0., 0., 0.],\n",
       "        [0., 0., 0., 0.],\n",
       "        [0., 0., 0., 0.]])"
      ]
     },
     "execution_count": 15,
     "metadata": {},
     "output_type": "execute_result"
    }
   ],
   "source": [
    "torch.zeros(3,4)"
   ]
  },
  {
   "cell_type": "code",
   "execution_count": 17,
   "id": "9ec8de0f-1bc3-4ebe-9c27-e8359c58fe65",
   "metadata": {},
   "outputs": [],
   "source": [
    "my_tensor = torch.rand(3,4)"
   ]
  },
  {
   "cell_type": "code",
   "execution_count": 18,
   "id": "e9281053-fee2-43b8-91d9-c496d14a954a",
   "metadata": {},
   "outputs": [
    {
     "data": {
      "text/plain": [
       "torch.float32"
      ]
     },
     "execution_count": 18,
     "metadata": {},
     "output_type": "execute_result"
    }
   ],
   "source": [
    "my_tensor.dtype"
   ]
  },
  {
   "cell_type": "code",
   "execution_count": 19,
   "id": "f8d14162-c910-4632-86a5-f4f2dbb45d4c",
   "metadata": {},
   "outputs": [
    {
     "data": {
      "text/plain": [
       "device(type='cpu')"
      ]
     },
     "execution_count": 19,
     "metadata": {},
     "output_type": "execute_result"
    }
   ],
   "source": [
    "my_tensor.device"
   ]
  },
  {
   "cell_type": "code",
   "execution_count": 21,
   "id": "fbc03f6b-8b52-44f3-b4d6-e125db79fb51",
   "metadata": {},
   "outputs": [
    {
     "data": {
      "text/plain": [
       "tensor([[0.3273, 0.8003],\n",
       "        [0.7720, 0.1194],\n",
       "        [0.6197, 0.2575]])"
      ]
     },
     "execution_count": 21,
     "metadata": {},
     "output_type": "execute_result"
    }
   ],
   "source": [
    "my_tensor[:, 1:3]"
   ]
  },
  {
   "cell_type": "code",
   "execution_count": 22,
   "id": "1b6b1303-dd3f-4093-9e69-92dfb154dc12",
   "metadata": {},
   "outputs": [
    {
     "data": {
      "text/plain": [
       "tensor([[0.1720, 0.1071, 0.6405, 0.8091],\n",
       "        [0.7238, 0.5959, 0.0142, 0.0184],\n",
       "        [0.3624, 0.3841, 0.0663, 0.0595]])"
      ]
     },
     "execution_count": 22,
     "metadata": {},
     "output_type": "execute_result"
    }
   ],
   "source": [
    "my_tensor.mul(my_tensor)"
   ]
  },
  {
   "cell_type": "code",
   "execution_count": 23,
   "id": "735d0847-2e99-48e9-8b72-45b58643974e",
   "metadata": {},
   "outputs": [
    {
     "data": {
      "text/plain": [
       "tensor([[0.1720, 0.1071, 0.6405, 0.8091],\n",
       "        [0.7238, 0.5959, 0.0142, 0.0184],\n",
       "        [0.3624, 0.3841, 0.0663, 0.0595]])"
      ]
     },
     "execution_count": 23,
     "metadata": {},
     "output_type": "execute_result"
    }
   ],
   "source": [
    "my_tensor * my_tensor"
   ]
  },
  {
   "cell_type": "code",
   "execution_count": 24,
   "id": "56e4b53e-016e-4e58-a08f-bd276e7f1b8e",
   "metadata": {},
   "outputs": [
    {
     "data": {
      "text/plain": [
       "tensor([[1.7286, 0.8230, 0.8779],\n",
       "        [0.8230, 1.3524, 1.0544],\n",
       "        [0.8779, 1.0544, 0.8722]])"
      ]
     },
     "execution_count": 24,
     "metadata": {},
     "output_type": "execute_result"
    }
   ],
   "source": [
    "my_tensor.matmul(my_tensor.T)"
   ]
  },
  {
   "cell_type": "code",
   "execution_count": 25,
   "id": "f454eac9-0697-4ae6-9a3b-86a7e0d9c19d",
   "metadata": {},
   "outputs": [
    {
     "data": {
      "text/plain": [
       "tensor([[1.7286, 0.8230, 0.8779],\n",
       "        [0.8230, 1.3524, 1.0544],\n",
       "        [0.8779, 1.0544, 0.8722]])"
      ]
     },
     "execution_count": 25,
     "metadata": {},
     "output_type": "execute_result"
    }
   ],
   "source": [
    "torch.matmul(my_tensor, my_tensor.T)"
   ]
  },
  {
   "cell_type": "code",
   "execution_count": 26,
   "id": "6efd383d-72a4-4c9a-a36c-f527e56065c4",
   "metadata": {},
   "outputs": [
    {
     "data": {
      "text/plain": [
       "tensor([[1.7286, 0.8230, 0.8779],\n",
       "        [0.8230, 1.3524, 1.0544],\n",
       "        [0.8779, 1.0544, 0.8722]])"
      ]
     },
     "execution_count": 26,
     "metadata": {},
     "output_type": "execute_result"
    }
   ],
   "source": [
    "my_tensor @ my_tensor.T"
   ]
  },
  {
   "cell_type": "code",
   "execution_count": 28,
   "id": "01767eb2-8385-490a-aeee-d69bcab8fff5",
   "metadata": {},
   "outputs": [
    {
     "data": {
      "text/plain": [
       "tensor([2.4417, 1.8778, 1.7231])"
      ]
     },
     "execution_count": 28,
     "metadata": {},
     "output_type": "execute_result"
    }
   ],
   "source": [
    "my_tensor.sum(axis=1)"
   ]
  },
  {
   "cell_type": "code",
   "execution_count": 29,
   "id": "725df7f6-550b-466b-99be-f551b318f98a",
   "metadata": {},
   "outputs": [
    {
     "data": {
      "text/plain": [
       "tensor([1.8674, 1.7189, 1.1772, 1.2791])"
      ]
     },
     "execution_count": 29,
     "metadata": {},
     "output_type": "execute_result"
    }
   ],
   "source": [
    "my_tensor.sum(axis=0)"
   ]
  },
  {
   "cell_type": "code",
   "execution_count": 30,
   "id": "5a3b9b93-1d83-477e-b269-2b3d98ff2fa8",
   "metadata": {},
   "outputs": [
    {
     "data": {
      "text/plain": [
       "tensor(0.8995)"
      ]
     },
     "execution_count": 30,
     "metadata": {},
     "output_type": "execute_result"
    }
   ],
   "source": [
    "torch.max(my_tensor)"
   ]
  },
  {
   "cell_type": "code",
   "execution_count": 31,
   "id": "cf2ce88a-38e9-4eb0-a739-69e5fa6481c0",
   "metadata": {},
   "outputs": [
    {
     "data": {
      "text/plain": [
       "tensor(0.1194)"
      ]
     },
     "execution_count": 31,
     "metadata": {},
     "output_type": "execute_result"
    }
   ],
   "source": [
    "torch.min(my_tensor)"
   ]
  },
  {
   "cell_type": "code",
   "execution_count": 33,
   "id": "66d4c588-af31-4ab5-ad78-95e458aa1c85",
   "metadata": {},
   "outputs": [
    {
     "data": {
      "text/plain": [
       "tensor([[0.4147, 0.3273, 0.8003, 0.8995],\n",
       "        [0.8508, 0.7720, 0.1194, 0.1357],\n",
       "        [0.6020, 0.6197, 0.2575, 0.2438],\n",
       "        [0.4147, 0.3273, 0.8003, 0.8995],\n",
       "        [0.8508, 0.7720, 0.1194, 0.1357],\n",
       "        [0.6020, 0.6197, 0.2575, 0.2438]])"
      ]
     },
     "execution_count": 33,
     "metadata": {},
     "output_type": "execute_result"
    }
   ],
   "source": [
    "torch.cat([my_tensor, my_tensor])"
   ]
  },
  {
   "cell_type": "code",
   "execution_count": 34,
   "id": "f7e4fe73-7aff-4ec3-a9bc-7e4f88ac03f5",
   "metadata": {},
   "outputs": [
    {
     "data": {
      "text/plain": [
       "tensor([[0.4147, 0.3273, 0.8003, 0.8995, 0.4147, 0.3273, 0.8003, 0.8995],\n",
       "        [0.8508, 0.7720, 0.1194, 0.1357, 0.8508, 0.7720, 0.1194, 0.1357],\n",
       "        [0.6020, 0.6197, 0.2575, 0.2438, 0.6020, 0.6197, 0.2575, 0.2438]])"
      ]
     },
     "execution_count": 34,
     "metadata": {},
     "output_type": "execute_result"
    }
   ],
   "source": [
    "torch.cat([my_tensor, my_tensor], axis=1)"
   ]
  },
  {
   "cell_type": "code",
   "execution_count": 35,
   "id": "65d1cc67-b569-437e-a83c-39a5776b18ed",
   "metadata": {},
   "outputs": [
    {
     "data": {
      "text/plain": [
       "tensor([[0.4147, 0.3273, 0.8003, 0.8995, 0.4147, 0.3273, 0.8003, 0.8995],\n",
       "        [0.8508, 0.7720, 0.1194, 0.1357, 0.8508, 0.7720, 0.1194, 0.1357],\n",
       "        [0.6020, 0.6197, 0.2575, 0.2438, 0.6020, 0.6197, 0.2575, 0.2438]])"
      ]
     },
     "execution_count": 35,
     "metadata": {},
     "output_type": "execute_result"
    }
   ],
   "source": [
    "torch.cat([my_tensor, my_tensor], dim=1)"
   ]
  },
  {
   "cell_type": "code",
   "execution_count": 36,
   "id": "0b4be53d-9f01-426b-868d-299867e3f986",
   "metadata": {},
   "outputs": [
    {
     "data": {
      "text/plain": [
       "tensor([[0.1996, 0.1829, 0.2935, 0.3241],\n",
       "        [0.3455, 0.3193, 0.1663, 0.1690],\n",
       "        [0.2919, 0.2972, 0.2069, 0.2041]])"
      ]
     },
     "execution_count": 36,
     "metadata": {},
     "output_type": "execute_result"
    }
   ],
   "source": [
    "torch.nn.functional.softmax(my_tensor, dim=1)"
   ]
  },
  {
   "cell_type": "code",
   "execution_count": 37,
   "id": "391cdaf0-b0ad-4e8e-b1b7-b562f2962222",
   "metadata": {},
   "outputs": [
    {
     "data": {
      "text/plain": [
       "tensor([1., 1., 1.])"
      ]
     },
     "execution_count": 37,
     "metadata": {},
     "output_type": "execute_result"
    }
   ],
   "source": [
    "torch.sum(torch.nn.functional.softmax(my_tensor, dim=1), dim=1)"
   ]
  },
  {
   "cell_type": "code",
   "execution_count": 38,
   "id": "d662fd15-d3f1-4734-8bb5-5c0b67aaca9a",
   "metadata": {},
   "outputs": [
    {
     "data": {
      "text/plain": [
       "torch.Size([3, 4])"
      ]
     },
     "execution_count": 38,
     "metadata": {},
     "output_type": "execute_result"
    }
   ],
   "source": [
    "my_tensor.size()"
   ]
  },
  {
   "cell_type": "code",
   "execution_count": 39,
   "id": "28800e46-cb43-4413-92f1-3f5b101b4084",
   "metadata": {},
   "outputs": [
    {
     "data": {
      "text/plain": [
       "3"
      ]
     },
     "execution_count": 39,
     "metadata": {},
     "output_type": "execute_result"
    }
   ],
   "source": [
    "my_tensor.size(0)"
   ]
  },
  {
   "cell_type": "code",
   "execution_count": 40,
   "id": "f92f6c02-ffdc-46f9-9d93-e4f8eae1fdba",
   "metadata": {},
   "outputs": [
    {
     "data": {
      "text/plain": [
       "4"
      ]
     },
     "execution_count": 40,
     "metadata": {},
     "output_type": "execute_result"
    }
   ],
   "source": [
    "my_tensor.size(1)"
   ]
  },
  {
   "cell_type": "code",
   "execution_count": 41,
   "id": "40b9ca2f-5795-4dc5-ab12-7d17fe5eba69",
   "metadata": {},
   "outputs": [
    {
     "data": {
      "text/plain": [
       "4"
      ]
     },
     "execution_count": 41,
     "metadata": {},
     "output_type": "execute_result"
    }
   ],
   "source": [
    "my_tensor.size(-1)"
   ]
  },
  {
   "cell_type": "code",
   "execution_count": 42,
   "id": "910b855d-41ac-49b7-a7eb-5ee7943ae0e8",
   "metadata": {},
   "outputs": [],
   "source": [
    "# 10 batch size\n",
    "# 3 channels\n",
    "# size of image\n",
    "img_tensor = torch.rand(10, 3, 128, 128)"
   ]
  },
  {
   "cell_type": "code",
   "execution_count": 43,
   "id": "390e9888-0ac3-4259-966b-96a211b48b30",
   "metadata": {},
   "outputs": [
    {
     "data": {
      "text/plain": [
       "torch.Size([10, 3, 128, 128])"
      ]
     },
     "execution_count": 43,
     "metadata": {},
     "output_type": "execute_result"
    }
   ],
   "source": [
    "img_tensor.size()"
   ]
  },
  {
   "cell_type": "code",
   "execution_count": 44,
   "id": "6637c33d-be16-4c45-a48d-4481fa83103b",
   "metadata": {},
   "outputs": [
    {
     "data": {
      "text/plain": [
       "tensor([[0.4147, 0.3273, 0.8000, 0.8000],\n",
       "        [0.8000, 0.7720, 0.2000, 0.2000],\n",
       "        [0.6020, 0.6197, 0.2575, 0.2438]])"
      ]
     },
     "execution_count": 44,
     "metadata": {},
     "output_type": "execute_result"
    }
   ],
   "source": [
    "my_tensor.clip(0.2, 0.8)"
   ]
  },
  {
   "cell_type": "code",
   "execution_count": 45,
   "id": "44185db0-5a79-4cca-9332-617cfc7ae97c",
   "metadata": {},
   "outputs": [
    {
     "data": {
      "text/plain": [
       "array([[0.41469365, 0.32725096, 0.8003015 , 0.8994921 ],\n",
       "       [0.8507653 , 0.77196324, 0.11936009, 0.13571936],\n",
       "       [0.60198313, 0.6197321 , 0.25750208, 0.24384695]], dtype=float32)"
      ]
     },
     "execution_count": 45,
     "metadata": {},
     "output_type": "execute_result"
    }
   ],
   "source": [
    "my_tensor.detach().numpy()"
   ]
  },
  {
   "cell_type": "code",
   "execution_count": null,
   "id": "cf328ed0-3c07-4e6c-b471-850ad90a0f10",
   "metadata": {},
   "outputs": [],
   "source": []
  }
 ],
 "metadata": {
  "kernelspec": {
   "display_name": "Python 3 (ipykernel)",
   "language": "python",
   "name": "python3"
  },
  "language_info": {
   "codemirror_mode": {
    "name": "ipython",
    "version": 3
   },
   "file_extension": ".py",
   "mimetype": "text/x-python",
   "name": "python",
   "nbconvert_exporter": "python",
   "pygments_lexer": "ipython3",
   "version": "3.10.8"
  }
 },
 "nbformat": 4,
 "nbformat_minor": 5
}
